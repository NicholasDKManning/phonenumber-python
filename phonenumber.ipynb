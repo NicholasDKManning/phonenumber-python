{
 "cells": [
  {
   "cell_type": "code",
   "execution_count": 22,
   "id": "aefc45ef",
   "metadata": {},
   "outputs": [
    {
     "name": "stdout",
     "output_type": "stream",
     "text": [
      "Enter 10 digits for you phone number!: 7137755733\n",
      "\n",
      "Your phone number is:  ( 7 1 3 ) 7 7 5  -  5 7 3 3\n"
     ]
    }
   ],
   "source": [
    "# give an integer representing a 10 - digit phone number, output the area code, prefix, and line number\n",
    "# Use the format (###) ### - ###\n",
    "# For example: if your input is 8005551212, your output would be (800) 555 - 1212\n",
    "# For simplicity, assume all three of the parts of the number will start with a non - zero digit.\n",
    "# So, 011999888 will not be used to test your code.\n",
    "\n",
    "phone_number = input('Enter 10 digits for you phone number!: ')\n",
    "\n",
    "print()\n",
    "\n",
    "if len(phone_number) != 10: \n",
    "\n",
    "    print('SORRY, This number is not valid. Please input a digit phone number with no spaces!')\n",
    "    \n",
    "else:\n",
    "    \n",
    "    print(\"Your phone number is: \", \"(\", phone_number[0], phone_number[1], phone_number[2], \")\", phone_number[3], phone_number[4], phone_number[5], \" - \", phone_number[6], phone_number[7], phone_number[8], phone_number[9])\n",
    "\n"
   ]
  },
  {
   "cell_type": "code",
   "execution_count": null,
   "id": "79edcc34",
   "metadata": {},
   "outputs": [],
   "source": []
  },
  {
   "cell_type": "code",
   "execution_count": null,
   "id": "afe46396",
   "metadata": {},
   "outputs": [],
   "source": []
  }
 ],
 "metadata": {
  "kernelspec": {
   "display_name": "Python 3 (ipykernel)",
   "language": "python",
   "name": "python3"
  },
  "language_info": {
   "codemirror_mode": {
    "name": "ipython",
    "version": 3
   },
   "file_extension": ".py",
   "mimetype": "text/x-python",
   "name": "python",
   "nbconvert_exporter": "python",
   "pygments_lexer": "ipython3",
   "version": "3.9.12"
  }
 },
 "nbformat": 4,
 "nbformat_minor": 5
}
